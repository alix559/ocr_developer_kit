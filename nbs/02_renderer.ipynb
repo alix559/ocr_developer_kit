{
 "cells": [
  {
   "cell_type": "code",
   "execution_count": null,
   "id": "a66da480-dc01-4bba-8f73-0022fad14f00",
   "metadata": {},
   "outputs": [],
   "source": [
    "#| default_exp renderer"
   ]
  },
  {
   "cell_type": "code",
   "execution_count": null,
   "id": "a822a761-0f38-4295-a392-8e4aec9f63e6",
   "metadata": {},
   "outputs": [],
   "source": [
    "#| export\n",
    "from ocr_developer_kit.komatsu import *\n",
    "from IPython.display import Image, display\n",
    "from pathlib import Path\n",
    "from manim import tempconfig\n",
    "import os\n",
    "import sys"
   ]
  },
  {
   "cell_type": "markdown",
   "id": "b7aa5c0a-256a-4bb9-9304-fc6c5bcc36f6",
   "metadata": {},
   "source": [
    "# Renderer\n",
    "> Methods to examine the invoice png images generated "
   ]
  },
  {
   "cell_type": "markdown",
   "id": "ae0e3d9a-e2f9-41f0-b818-d00f44650500",
   "metadata": {},
   "source": [
    "## single page render\n",
    "We are generating invoice images by passing in the json data to the animation engine. It is a good practise to often test the json and image interplay to check if everything is working correctly, for example an invoice might be missing out some rows that were intended for a particular page because the animation engine was fed in a wrong height value. \n"
   ]
  },
  {
   "cell_type": "code",
   "execution_count": null,
   "id": "4b34f844-6450-4675-ad8e-4e7cb807c59d",
   "metadata": {},
   "outputs": [],
   "source": [
    "#| export\n",
    "\n",
    "def render_single_page(frame_number=0):\n",
    "    \"\"\"\n",
    "    Render an invoice with a corresponding JSON object identified as `frame_number`\n",
    "    and display the PNG inline in Jupyter.\n",
    "    \"\"\"\n",
    "    scene = InvoiceScene(frame_number=frame_number)\n",
    "    scene.render()\n",
    "    print(f\"✅ Frame {frame_number} rendered successfully\")\n",
    "\n",
    "    # Default output path based on Manim convention\n",
    "    media_dir = os.path.join(os.getcwd(), \"media\", \"images\")\n",
    "    png_name = \"InvoiceScene_ManimCE_v0.19.0.png\"  # from the log output\n",
    "    png_path = os.path.join(media_dir, png_name)\n",
    "\n",
    "    if os.path.exists(png_path):\n",
    "        display(Image(filename=png_path))\n",
    "    else:\n",
    "        print(f\"⚠️ Could not find rendered PNG at {png_path}\")"
   ]
  },
  {
   "cell_type": "markdown",
   "id": "82b88f88-eb3e-47bb-81e4-3b5d0aa6e090",
   "metadata": {},
   "source": [
    "* The above function can be used like render_single_page(1)  , the value we provide the function is the json object that we wish to render.\n",
    "* If the dataset has 10 json objects to render the 1st object the command would be render_single_page(0) ( the indexing starts from 0,1,2 .. ) "
   ]
  },
  {
   "cell_type": "code",
   "execution_count": null,
   "id": "78708890-4042-4667-92f7-cea2cb73a6b5",
   "metadata": {},
   "outputs": [],
   "source": [
    "#| export\n",
    "def render_with_custom_data(data_source, frame_number=0):\n",
    "    \"\"\"\n",
    "    Render an invoice with a custom JSON data source identified as `frame_number`\n",
    "    and display the PNG inline in Jupyter.\n",
    "    \"\"\"\n",
    "    # load custom data\n",
    "    invoice_data = load_json_data_source(\n",
    "        data_source_path=data_source,\n",
    "    )\n",
    "\n",
    "    # Create scene with custom data\n",
    "    scene = InvoiceSceneWithCustomData(frame_number=frame_number, custom_data=invoice_data)\n",
    "    scene.render()\n",
    "    print(f\"✅ Frame {frame_number} rendered successfully from custom data source\")\n",
    "\n",
    "    # Default output path based on Manim convention\n",
    "    media_dir = os.path.join(os.getcwd(), \"media\", \"images\")\n",
    "    png_name = \"InvoiceSceneWithCustomData_ManimCE_v0.19.0.png\"  # likely filename from Manim\n",
    "    png_path = os.path.join(media_dir, png_name)\n",
    "\n",
    "    if os.path.exists(png_path):\n",
    "        display(Image(filename=png_path))\n",
    "    else:\n",
    "        print(f\"⚠️ Could not find rendered PNG at {png_path}\")\n",
    "    "
   ]
  },
  {
   "cell_type": "markdown",
   "id": "d4d6bee4-1791-4815-b889-afa3a27238c5",
   "metadata": {},
   "source": [
    "you can use it like render_with_custom_data(\"/home/ajacob/mlprojects/ocr/ocr_developer_kit/ocr_developer_kit/invoice_data.json\", 4)\n",
    "\n",
    "Here the first argument to the method is the path of the json data, and the send argument is the integer that represents which json object is being passed in from the json data."
   ]
  },
  {
   "cell_type": "code",
   "execution_count": null,
   "id": "c92357e3-19a6-4031-b8b7-3a99b615b735",
   "metadata": {},
   "outputs": [],
   "source": [
    "#| export\n",
    "def render_frame():\n",
    "    \"\"\"\n",
    "    Render a frame by providing the json object number and the path to the json file\n",
    "    \"\"\"\n",
    "    print(\"🎨 Basic File Picker\")\n",
    "    print(\"=\" * 40)\n",
    "    \n",
    "    # Get file path\n",
    "    file_path = input(\"Enter path to your JSON file: \")\n",
    "    \n",
    "    if not file_path:\n",
    "        print(\"❌ No file path provided\")\n",
    "        return\n",
    "    \n",
    "    # Get frame number\n",
    "    try:\n",
    "        frame_input = input(\"Enter frame number (0, 1, 2...): \")\n",
    "        frame_num = int(frame_input) if frame_input else 0\n",
    "    except ValueError:\n",
    "        frame_num = 0\n",
    "        print(\"⚠️ Invalid frame number, using 0\")\n",
    "    \n",
    "    print(f\"🎯 Rendering frame {frame_num} from {file_path}\")\n",
    "    \n",
    "    # Render\n",
    "    try:\n",
    "        render_with_custom_data(file_path, frame_num)\n",
    "        print(f\"✅ Frame {frame_num} rendered successfully!\")\n",
    "    except Exception as e:\n",
    "        print(f\"❌ Error: {e}\")\n",
    "\n"
   ]
  },
  {
   "cell_type": "markdown",
   "id": "4fe766eb-a3d2-41ce-b611-fbd0e9d779d1",
   "metadata": {},
   "source": [
    "render_frame() can be used as it is , it is interactive in nature"
   ]
  },
  {
   "cell_type": "code",
   "execution_count": null,
   "id": "d972beca-ab0e-4d7c-9694-0dac95542d2c",
   "metadata": {},
   "outputs": [],
   "source": []
  }
 ],
 "metadata": {
  "kernelspec": {
   "display_name": "pixi-ocr-dev",
   "language": "python",
   "name": "pixi-ocr-dev"
  }
 },
 "nbformat": 4,
 "nbformat_minor": 5
}
