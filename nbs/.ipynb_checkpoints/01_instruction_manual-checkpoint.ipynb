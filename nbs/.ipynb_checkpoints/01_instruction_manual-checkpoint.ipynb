{
 "cells": [
  {
   "cell_type": "code",
   "execution_count": null,
   "id": "13df3446-b644-44e2-b45b-e9c19c28f724",
   "metadata": {},
   "outputs": [],
   "source": [
    "#| default_exp instruction_manual\n"
   ]
  },
  {
   "cell_type": "markdown",
   "id": "98156a16-b4be-4969-a9b0-a5be52c6ed9d",
   "metadata": {},
   "source": [
    "# Getting Started\n"
   ]
  },
  {
   "cell_type": "markdown",
   "id": "e73da1d8-43b2-4895-b9c1-c24bb4aea9da",
   "metadata": {},
   "source": [
    "## step1 : start a session using the ocr_developer_kit \n",
    "* click on the Terminal Icon on the top  of the interface\n",
    "* click on  new terminal option\n",
    "* type \"pixi shell\" in the terminal and press Enter"
   ]
  },
  {
   "cell_type": "markdown",
   "id": "42f82255-5a9b-4f59-84f7-e10b025031cd",
   "metadata": {},
   "source": [
    "## step2:  Install ocr_developer_kit in development mode\n",
    "type \"pip install -e .\""
   ]
  },
  {
   "cell_type": "markdown",
   "id": "6686917d-6605-47fd-b47d-5942d23bea83",
   "metadata": {},
   "source": [
    "## step3: Activate the lab session\n",
    "type \"jupyter lab\"  and press enter\n"
   ]
  },
  {
   "cell_type": "markdown",
   "id": "7023732e-56e0-4043-813f-079c5c9d8203",
   "metadata": {},
   "source": [
    "# ocr_developer_kit abilities \n",
    "> renderer, json_data creation"
   ]
  },
  {
   "cell_type": "code",
   "execution_count": null,
   "id": "802e7196-c4c4-499b-a924-016fcb419619",
   "metadata": {},
   "outputs": [],
   "source": []
  }
 ],
 "metadata": {
  "kernelspec": {
   "display_name": "pixi OCR dev",
   "language": "python",
   "name": "pixi-ocr-dev"
  },
  "language_info": {
   "codemirror_mode": {
    "name": "ipython",
    "version": 3
   },
   "file_extension": ".py",
   "mimetype": "text/x-python",
   "name": "python",
   "nbconvert_exporter": "python",
   "pygments_lexer": "ipython3",
   "version": "3.9.23"
  }
 },
 "nbformat": 4,
 "nbformat_minor": 5
}
