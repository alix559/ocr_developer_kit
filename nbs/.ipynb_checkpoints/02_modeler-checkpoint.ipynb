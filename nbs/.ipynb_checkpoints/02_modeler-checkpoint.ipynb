{
 "cells": [
  {
   "cell_type": "code",
   "execution_count": 4,
   "id": "25efe24b-881e-4f85-83f1-5d0897baa3eb",
   "metadata": {},
   "outputs": [],
   "source": [
    "#| default_exp modeler"
   ]
  },
  {
   "cell_type": "markdown",
   "id": "9e04acb5-fb39-4da0-ae22-636b6d80f0ea",
   "metadata": {},
   "source": [
    "# Modeler\n",
    "> methods to generate synthetic data sets to fit patterns seen in invoice texts "
   ]
  },
  {
   "cell_type": "markdown",
   "id": "0e055ece-5f6f-402f-aed9-90caf39c22c2",
   "metadata": {},
   "source": [
    "We will be using an AI tool to generate json required to render invoice images that will be fed into the training pipeline. Lets start with a \n",
    "basic style "
   ]
  },
  {
   "cell_type": "code",
   "execution_count": 2,
   "id": "831775dd-9caa-469e-bb68-3c9dbc68147c",
   "metadata": {},
   "outputs": [],
   "source": [
    "#| export\n",
    "\n",
    "import json\n",
    "import pandas as pd\n",
    "from IPython.display import display\n",
    "\n",
    "def flatten_json_items(path, rows=50):\n",
    "    \"\"\"\n",
    "    Load JSON and concatenate all 'items' lists into one DataFrame.\n",
    "    \"\"\"\n",
    "    with open(path, \"r\", encoding=\"utf-8\") as f:\n",
    "        data = json.load(f)\n",
    "\n",
    "    if isinstance(data, dict):\n",
    "        data = [data]\n",
    "\n",
    "    df = pd.json_normalize(data)\n",
    "\n",
    "    # Collect all expanded items\n",
    "    all_items = []\n",
    "    for idx, row in df.iterrows():\n",
    "        if isinstance(row.get(\"items\"), list):\n",
    "            for it in row[\"items\"]:\n",
    "                # attach invoice-level metadata for context\n",
    "                record = it.copy()\n",
    "                record[\"invoice_number\"] = row.get(\"invoice_number\")\n",
    "                record[\"invoice_date\"] = row.get(\"invoice_date\")\n",
    "                record[\"buyer\"] = row.get(\"buyer\")\n",
    "                all_items.append(record)\n",
    "\n",
    "    items_df = pd.DataFrame(all_items)\n",
    "\n",
    "    # Return only — Jupyter will display nicely once\n",
    "    return items_df.head(rows)\n"
   ]
  },
  {
   "cell_type": "code",
   "execution_count": null,
   "id": "63775134-acdc-464f-91d1-dec0614670ac",
   "metadata": {},
   "outputs": [],
   "source": []
  }
 ],
 "metadata": {
  "kernelspec": {
   "display_name": "pixi OCR dev",
   "language": "python",
   "name": "pixi-ocr-dev"
  },
  "language_info": {
   "codemirror_mode": {
    "name": "ipython",
    "version": 3
   },
   "file_extension": ".py",
   "mimetype": "text/x-python",
   "name": "python",
   "nbconvert_exporter": "python",
   "pygments_lexer": "ipython3",
   "version": "3.9.23"
  }
 },
 "nbformat": 4,
 "nbformat_minor": 5
}
