{
 "cells": [
  {
   "cell_type": "code",
   "execution_count": 1,
   "metadata": {},
   "outputs": [],
   "source": [
    "#| hide\n",
    "from ocr_developer_kit.renderer import *\n",
    "from ocr_developer_kit.modeler import *"
   ]
  },
  {
   "cell_type": "markdown",
   "metadata": {},
   "source": [
    "# ocr_developer_kit\n",
    "\n",
    "> Literate programming for Cole's OCR team"
   ]
  },
  {
   "cell_type": "markdown",
   "metadata": {},
   "source": [
    "This file will become your README and also the index of your documentation."
   ]
  },
  {
   "cell_type": "markdown",
   "metadata": {},
   "source": [
    "## How to use"
   ]
  },
  {
   "cell_type": "code",
   "execution_count": 2,
   "metadata": {},
   "outputs": [
    {
     "data": {
      "text/html": [
       "<pre style=\"white-space:pre;overflow-x:auto;line-height:normal;font-family:Menlo,'DejaVu Sans Mono',consolas,'Courier New',monospace\"><span style=\"color: #7fbfbf; text-decoration-color: #7fbfbf\">[09/03/25 14:05:03] </span><span style=\"color: #008000; text-decoration-color: #008000\">INFO    </span>                                                               <a href=\"file:///home/ajacob/mlprojects/ocr/ocr_developer_kit/.pixi/envs/default/lib/python3.9/site-packages/manim/scene/scene_file_writer.py\" target=\"_blank\"><span style=\"color: #7f7f7f; text-decoration-color: #7f7f7f\">scene_file_writer.py</span></a><span style=\"color: #7f7f7f; text-decoration-color: #7f7f7f\">:</span><a href=\"file:///home/ajacob/mlprojects/ocr/ocr_developer_kit/.pixi/envs/default/lib/python3.9/site-packages/manim/scene/scene_file_writer.py#886\" target=\"_blank\"><span style=\"color: #7f7f7f; text-decoration-color: #7f7f7f\">886</span></a>\n",
       "<span style=\"color: #7fbfbf; text-decoration-color: #7fbfbf\">                    </span>         <span style=\"color: #808000; text-decoration-color: #808000; font-weight: bold\">File</span> ready at                                                 <span style=\"color: #7f7f7f; text-decoration-color: #7f7f7f\">                        </span>\n",
       "<span style=\"color: #7fbfbf; text-decoration-color: #7fbfbf\">                    </span>         <span style=\"color: #008000; text-decoration-color: #008000\">'/home/ajacob/mlprojects/ocr/ocr_developer_kit/nbs/media/imag</span> <span style=\"color: #7f7f7f; text-decoration-color: #7f7f7f\">                        </span>\n",
       "<span style=\"color: #7fbfbf; text-decoration-color: #7fbfbf\">                    </span>         <span style=\"color: #008000; text-decoration-color: #008000\">es/InvoiceScene_ManimCE_v0.19.0.png'</span>                          <span style=\"color: #7f7f7f; text-decoration-color: #7f7f7f\">                        </span>\n",
       "<span style=\"color: #7fbfbf; text-decoration-color: #7fbfbf\">                    </span>                                                                       <span style=\"color: #7f7f7f; text-decoration-color: #7f7f7f\">                        </span>\n",
       "</pre>\n"
      ],
      "text/plain": [
       "\u001b[2;36m[09/03/25 14:05:03]\u001b[0m\u001b[2;36m \u001b[0m\u001b[32mINFO    \u001b[0m                                                               \u001b]8;id=774467;file:///home/ajacob/mlprojects/ocr/ocr_developer_kit/.pixi/envs/default/lib/python3.9/site-packages/manim/scene/scene_file_writer.py\u001b\\\u001b[2mscene_file_writer.py\u001b[0m\u001b]8;;\u001b\\\u001b[2m:\u001b[0m\u001b]8;id=483819;file:///home/ajacob/mlprojects/ocr/ocr_developer_kit/.pixi/envs/default/lib/python3.9/site-packages/manim/scene/scene_file_writer.py#886\u001b\\\u001b[2m886\u001b[0m\u001b]8;;\u001b\\\n",
       "\u001b[2;36m                    \u001b[0m         \u001b[1;33mFile\u001b[0m ready at                                                 \u001b[2m                        \u001b[0m\n",
       "\u001b[2;36m                    \u001b[0m         \u001b[32m'/home/ajacob/mlprojects/ocr/ocr_developer_kit/nbs/media/imag\u001b[0m \u001b[2m                        \u001b[0m\n",
       "\u001b[2;36m                    \u001b[0m         \u001b[32mes/InvoiceScene_ManimCE_v0.19.0.png'\u001b[0m                          \u001b[2m                        \u001b[0m\n",
       "\u001b[2;36m                    \u001b[0m                                                                       \u001b[2m                        \u001b[0m\n"
      ]
     },
     "metadata": {},
     "output_type": "display_data"
    },
    {
     "data": {
      "text/html": [
       "<pre style=\"white-space:pre;overflow-x:auto;line-height:normal;font-family:Menlo,'DejaVu Sans Mono',consolas,'Courier New',monospace\"><span style=\"color: #7fbfbf; text-decoration-color: #7fbfbf\">                    </span><span style=\"color: #008000; text-decoration-color: #008000\">INFO    </span> <span style=\"color: #808000; text-decoration-color: #808000; font-weight: bold\">Rendered</span> InvoiceScene                                                     <a href=\"file:///home/ajacob/mlprojects/ocr/ocr_developer_kit/.pixi/envs/default/lib/python3.9/site-packages/manim/scene/scene.py\" target=\"_blank\"><span style=\"color: #7f7f7f; text-decoration-color: #7f7f7f\">scene.py</span></a><span style=\"color: #7f7f7f; text-decoration-color: #7f7f7f\">:</span><a href=\"file:///home/ajacob/mlprojects/ocr/ocr_developer_kit/.pixi/envs/default/lib/python3.9/site-packages/manim/scene/scene.py#255\" target=\"_blank\"><span style=\"color: #7f7f7f; text-decoration-color: #7f7f7f\">255</span></a>\n",
       "<span style=\"color: #7fbfbf; text-decoration-color: #7fbfbf\">                    </span>         <span style=\"color: #808000; text-decoration-color: #808000; font-weight: bold\">Played</span> <span style=\"color: #008000; text-decoration-color: #008000\">0</span> <span style=\"color: #808000; text-decoration-color: #808000; font-weight: bold\">animations</span>                                                       <span style=\"color: #7f7f7f; text-decoration-color: #7f7f7f\">            </span>\n",
       "</pre>\n"
      ],
      "text/plain": [
       "\u001b[2;36m                   \u001b[0m\u001b[2;36m \u001b[0m\u001b[32mINFO    \u001b[0m \u001b[1;33mRendered\u001b[0m InvoiceScene                                                     \u001b]8;id=522259;file:///home/ajacob/mlprojects/ocr/ocr_developer_kit/.pixi/envs/default/lib/python3.9/site-packages/manim/scene/scene.py\u001b\\\u001b[2mscene.py\u001b[0m\u001b]8;;\u001b\\\u001b[2m:\u001b[0m\u001b]8;id=525169;file:///home/ajacob/mlprojects/ocr/ocr_developer_kit/.pixi/envs/default/lib/python3.9/site-packages/manim/scene/scene.py#255\u001b\\\u001b[2m255\u001b[0m\u001b]8;;\u001b\\\n",
       "\u001b[2;36m                    \u001b[0m         \u001b[1;33mPlayed\u001b[0m \u001b[32m0\u001b[0m \u001b[1;33manimations\u001b[0m                                                       \u001b[2m            \u001b[0m\n"
      ]
     },
     "metadata": {},
     "output_type": "display_data"
    },
    {
     "name": "stdout",
     "output_type": "stream",
     "text": [
      "Frame 2 rendered successfully\n"
     ]
    }
   ],
   "source": [
    "render_single_page(2)\n"
   ]
  },
  {
   "cell_type": "code",
   "execution_count": null,
   "metadata": {},
   "outputs": [
    {
     "data": {
      "text/html": [
       "<pre style=\"white-space:pre;overflow-x:auto;line-height:normal;font-family:Menlo,'DejaVu Sans Mono',consolas,'Courier New',monospace\"><span style=\"color: #7fbfbf; text-decoration-color: #7fbfbf\">[08/29/25 15:12:03] </span><span style=\"color: #008000; text-decoration-color: #008000\">INFO    </span>                                                               <a href=\"file:///home/ajacob/mlprojects/ocr/ocr_developer_kit/.pixi/envs/default/lib/python3.12/site-packages/manim/scene/scene_file_writer.py\" target=\"_blank\"><span style=\"color: #7f7f7f; text-decoration-color: #7f7f7f\">scene_file_writer.py</span></a><span style=\"color: #7f7f7f; text-decoration-color: #7f7f7f\">:</span><a href=\"file:///home/ajacob/mlprojects/ocr/ocr_developer_kit/.pixi/envs/default/lib/python3.12/site-packages/manim/scene/scene_file_writer.py#886\" target=\"_blank\"><span style=\"color: #7f7f7f; text-decoration-color: #7f7f7f\">886</span></a>\n",
       "<span style=\"color: #7fbfbf; text-decoration-color: #7fbfbf\">                    </span>         <span style=\"color: #808000; text-decoration-color: #808000; font-weight: bold\">File</span> ready at                                                 <span style=\"color: #7f7f7f; text-decoration-color: #7f7f7f\">                        </span>\n",
       "<span style=\"color: #7fbfbf; text-decoration-color: #7fbfbf\">                    </span>         <span style=\"color: #008000; text-decoration-color: #008000\">'/home/ajacob/mlprojects/ocr/ocr_developer_kit/nbs/media/imag</span> <span style=\"color: #7f7f7f; text-decoration-color: #7f7f7f\">                        </span>\n",
       "<span style=\"color: #7fbfbf; text-decoration-color: #7fbfbf\">                    </span>         <span style=\"color: #008000; text-decoration-color: #008000\">es/InvoiceScene_ManimCE_v0.19.0.png'</span>                          <span style=\"color: #7f7f7f; text-decoration-color: #7f7f7f\">                        </span>\n",
       "<span style=\"color: #7fbfbf; text-decoration-color: #7fbfbf\">                    </span>                                                                       <span style=\"color: #7f7f7f; text-decoration-color: #7f7f7f\">                        </span>\n",
       "</pre>\n"
      ],
      "text/plain": [
       "\u001b[2;36m[08/29/25 15:12:03]\u001b[0m\u001b[2;36m \u001b[0m\u001b[32mINFO    \u001b[0m                                                               \u001b]8;id=525126;file:///home/ajacob/mlprojects/ocr/ocr_developer_kit/.pixi/envs/default/lib/python3.12/site-packages/manim/scene/scene_file_writer.py\u001b\\\u001b[2mscene_file_writer.py\u001b[0m\u001b]8;;\u001b\\\u001b[2m:\u001b[0m\u001b]8;id=981929;file:///home/ajacob/mlprojects/ocr/ocr_developer_kit/.pixi/envs/default/lib/python3.12/site-packages/manim/scene/scene_file_writer.py#886\u001b\\\u001b[2m886\u001b[0m\u001b]8;;\u001b\\\n",
       "\u001b[2;36m                    \u001b[0m         \u001b[1;33mFile\u001b[0m ready at                                                 \u001b[2m                        \u001b[0m\n",
       "\u001b[2;36m                    \u001b[0m         \u001b[32m'/home/ajacob/mlprojects/ocr/ocr_developer_kit/nbs/media/imag\u001b[0m \u001b[2m                        \u001b[0m\n",
       "\u001b[2;36m                    \u001b[0m         \u001b[32mes/InvoiceScene_ManimCE_v0.19.0.png'\u001b[0m                          \u001b[2m                        \u001b[0m\n",
       "\u001b[2;36m                    \u001b[0m                                                                       \u001b[2m                        \u001b[0m\n"
      ]
     },
     "metadata": {},
     "output_type": "display_data"
    },
    {
     "data": {
      "text/html": [
       "<pre style=\"white-space:pre;overflow-x:auto;line-height:normal;font-family:Menlo,'DejaVu Sans Mono',consolas,'Courier New',monospace\"><span style=\"color: #7fbfbf; text-decoration-color: #7fbfbf\">                    </span><span style=\"color: #008000; text-decoration-color: #008000\">INFO    </span> <span style=\"color: #808000; text-decoration-color: #808000; font-weight: bold\">Rendered</span> InvoiceSceneWithCustomData                                       <a href=\"file:///home/ajacob/mlprojects/ocr/ocr_developer_kit/.pixi/envs/default/lib/python3.12/site-packages/manim/scene/scene.py\" target=\"_blank\"><span style=\"color: #7f7f7f; text-decoration-color: #7f7f7f\">scene.py</span></a><span style=\"color: #7f7f7f; text-decoration-color: #7f7f7f\">:</span><a href=\"file:///home/ajacob/mlprojects/ocr/ocr_developer_kit/.pixi/envs/default/lib/python3.12/site-packages/manim/scene/scene.py#255\" target=\"_blank\"><span style=\"color: #7f7f7f; text-decoration-color: #7f7f7f\">255</span></a>\n",
       "<span style=\"color: #7fbfbf; text-decoration-color: #7fbfbf\">                    </span>         <span style=\"color: #808000; text-decoration-color: #808000; font-weight: bold\">Played</span> <span style=\"color: #008000; text-decoration-color: #008000\">0</span> <span style=\"color: #808000; text-decoration-color: #808000; font-weight: bold\">animations</span>                                                       <span style=\"color: #7f7f7f; text-decoration-color: #7f7f7f\">            </span>\n",
       "</pre>\n"
      ],
      "text/plain": [
       "\u001b[2;36m                   \u001b[0m\u001b[2;36m \u001b[0m\u001b[32mINFO    \u001b[0m \u001b[1;33mRendered\u001b[0m InvoiceSceneWithCustomData                                       \u001b]8;id=702866;file:///home/ajacob/mlprojects/ocr/ocr_developer_kit/.pixi/envs/default/lib/python3.12/site-packages/manim/scene/scene.py\u001b\\\u001b[2mscene.py\u001b[0m\u001b]8;;\u001b\\\u001b[2m:\u001b[0m\u001b]8;id=199071;file:///home/ajacob/mlprojects/ocr/ocr_developer_kit/.pixi/envs/default/lib/python3.12/site-packages/manim/scene/scene.py#255\u001b\\\u001b[2m255\u001b[0m\u001b]8;;\u001b\\\n",
       "\u001b[2;36m                    \u001b[0m         \u001b[1;33mPlayed\u001b[0m \u001b[32m0\u001b[0m \u001b[1;33manimations\u001b[0m                                                       \u001b[2m            \u001b[0m\n"
      ]
     },
     "metadata": {},
     "output_type": "display_data"
    },
    {
     "name": "stdout",
     "output_type": "stream",
     "text": [
      "Frame 1 rendered successfully from custom data source\n"
     ]
    }
   ],
   "source": [
    "render_with_custom_data(\"/home/ajacob/mlprojects/ocr/ocr_developer_kit/ocr_developer_kit/invoice_data.json\", 1)"
   ]
  },
  {
   "cell_type": "code",
   "execution_count": 11,
   "metadata": {},
   "outputs": [
    {
     "data": {
      "text/html": [
       "<div>\n",
       "<style scoped>\n",
       "    .dataframe tbody tr th:only-of-type {\n",
       "        vertical-align: middle;\n",
       "    }\n",
       "\n",
       "    .dataframe tbody tr th {\n",
       "        vertical-align: top;\n",
       "    }\n",
       "\n",
       "    .dataframe thead th {\n",
       "        text-align: right;\n",
       "    }\n",
       "</style>\n",
       "<table border=\"1\" class=\"dataframe\">\n",
       "  <thead>\n",
       "    <tr style=\"text-align: right;\">\n",
       "      <th></th>\n",
       "      <th>part_number</th>\n",
       "      <th>description</th>\n",
       "      <th>country_of_origin</th>\n",
       "      <th>quantity</th>\n",
       "      <th>unit_price</th>\n",
       "      <th>extended_price</th>\n",
       "      <th>invoice_number</th>\n",
       "      <th>invoice_date</th>\n",
       "      <th>buyer</th>\n",
       "    </tr>\n",
       "  </thead>\n",
       "  <tbody>\n",
       "    <tr>\n",
       "      <th>0</th>\n",
       "      <td>P64028C</td>\n",
       "      <td>MOTOR, ELECTRIC 230V 5HP</td>\n",
       "      <td>CHN</td>\n",
       "      <td>4.00</td>\n",
       "      <td>697.65</td>\n",
       "      <td>2790.60</td>\n",
       "      <td>9941973384</td>\n",
       "      <td>2024-12-25</td>\n",
       "      <td>JOY GLOBAL CANADA</td>\n",
       "    </tr>\n",
       "    <tr>\n",
       "      <th>1</th>\n",
       "      <td>P20218Z</td>\n",
       "      <td>MOTOR, ELECTRIC 230V 5HP</td>\n",
       "      <td>CAN</td>\n",
       "      <td>11.00</td>\n",
       "      <td>421.45</td>\n",
       "      <td>4635.95</td>\n",
       "      <td>9941973384</td>\n",
       "      <td>2024-12-25</td>\n",
       "      <td>JOY GLOBAL CANADA</td>\n",
       "    </tr>\n",
       "    <tr>\n",
       "      <th>2</th>\n",
       "      <td>P29158F</td>\n",
       "      <td>SOLENOID VALVE, 24VDC</td>\n",
       "      <td>CHN</td>\n",
       "      <td>8.00</td>\n",
       "      <td>182.50</td>\n",
       "      <td>1460.00</td>\n",
       "      <td>9370039814</td>\n",
       "      <td>2024-12-21</td>\n",
       "      <td>JOY GLOBAL CANADA</td>\n",
       "    </tr>\n",
       "    <tr>\n",
       "      <th>3</th>\n",
       "      <td>P77621A</td>\n",
       "      <td>GAUGE PRESSURE, 04 ORB MD-5000 PSI</td>\n",
       "      <td>MEX</td>\n",
       "      <td>20.00</td>\n",
       "      <td>740.87</td>\n",
       "      <td>14817.40</td>\n",
       "      <td>9370039814</td>\n",
       "      <td>2024-12-21</td>\n",
       "      <td>JOY GLOBAL CANADA</td>\n",
       "    </tr>\n",
       "    <tr>\n",
       "      <th>4</th>\n",
       "      <td>P22910I</td>\n",
       "      <td>THERMOCOUPLE TYPE-K 1000°C</td>\n",
       "      <td>GER</td>\n",
       "      <td>2.00</td>\n",
       "      <td>225.48</td>\n",
       "      <td>450.96</td>\n",
       "      <td>9362939532</td>\n",
       "      <td>2024-12-13</td>\n",
       "      <td>JOY GLOBAL CANADA</td>\n",
       "    </tr>\n",
       "    <tr>\n",
       "      <th>5</th>\n",
       "      <td>P85394V</td>\n",
       "      <td>VALVE ASSEMBLY, RELIEF 3000 PSI</td>\n",
       "      <td>GER</td>\n",
       "      <td>18.00</td>\n",
       "      <td>807.66</td>\n",
       "      <td>14537.88</td>\n",
       "      <td>9362939532</td>\n",
       "      <td>2024-12-13</td>\n",
       "      <td>JOY GLOBAL CANADA</td>\n",
       "    </tr>\n",
       "    <tr>\n",
       "      <th>6</th>\n",
       "      <td>P64029D</td>\n",
       "      <td>MOTOR, ELECTRIC 230V 5HP</td>\n",
       "      <td>CHN</td>\n",
       "      <td>6.00</td>\n",
       "      <td>720.00</td>\n",
       "      <td>4320.00</td>\n",
       "      <td>9941973385</td>\n",
       "      <td>2024-12-26</td>\n",
       "      <td>JOY GLOBAL CANADA</td>\n",
       "    </tr>\n",
       "    <tr>\n",
       "      <th>7</th>\n",
       "      <td>P29159G</td>\n",
       "      <td>SOLENOID VALVE, 24VDC</td>\n",
       "      <td>USA</td>\n",
       "      <td>12.00</td>\n",
       "      <td>195.00</td>\n",
       "      <td>2340.00</td>\n",
       "      <td>9941973385</td>\n",
       "      <td>2024-12-26</td>\n",
       "      <td>JOY GLOBAL CANADA</td>\n",
       "    </tr>\n",
       "    <tr>\n",
       "      <th>8</th>\n",
       "      <td>P77622B</td>\n",
       "      <td>GAUGE PRESSURE, 04 ORB MD-5000 PSI</td>\n",
       "      <td>MEX</td>\n",
       "      <td>15.00</td>\n",
       "      <td>750.00</td>\n",
       "      <td>11250.00</td>\n",
       "      <td>9370039815</td>\n",
       "      <td>2024-12-22</td>\n",
       "      <td>JOY GLOBAL CANADA</td>\n",
       "    </tr>\n",
       "    <tr>\n",
       "      <th>9</th>\n",
       "      <td>P22911J</td>\n",
       "      <td>THERMOCOUPLE TYPE-K 1000°C</td>\n",
       "      <td>GER</td>\n",
       "      <td>8.00</td>\n",
       "      <td>230.00</td>\n",
       "      <td>1840.00</td>\n",
       "      <td>9370039815</td>\n",
       "      <td>2024-12-22</td>\n",
       "      <td>JOY GLOBAL CANADA</td>\n",
       "    </tr>\n",
       "    <tr>\n",
       "      <th>10</th>\n",
       "      <td>P85395W</td>\n",
       "      <td>VALVE ASSEMBLY, RELIEF 3000 PSI</td>\n",
       "      <td>GER</td>\n",
       "      <td>10.00</td>\n",
       "      <td>820.00</td>\n",
       "      <td>8200.00</td>\n",
       "      <td>9362939533</td>\n",
       "      <td>2024-12-14</td>\n",
       "      <td>JOY GLOBAL CANADA</td>\n",
       "    </tr>\n",
       "    <tr>\n",
       "      <th>11</th>\n",
       "      <td>P64030E</td>\n",
       "      <td>MOTOR, ELECTRIC 230V 5HP</td>\n",
       "      <td>CHN</td>\n",
       "      <td>3.00</td>\n",
       "      <td>710.00</td>\n",
       "      <td>2130.00</td>\n",
       "      <td>9362939533</td>\n",
       "      <td>2024-12-14</td>\n",
       "      <td>JOY GLOBAL CANADA</td>\n",
       "    </tr>\n",
       "    <tr>\n",
       "      <th>12</th>\n",
       "      <td>P29160H</td>\n",
       "      <td>SOLENOID VALVE, 24VDC</td>\n",
       "      <td>USA</td>\n",
       "      <td>16.00</td>\n",
       "      <td>185.00</td>\n",
       "      <td>2960.00</td>\n",
       "      <td>9941973386</td>\n",
       "      <td>2024-12-27</td>\n",
       "      <td>JOY GLOBAL CANADA</td>\n",
       "    </tr>\n",
       "    <tr>\n",
       "      <th>13</th>\n",
       "      <td>P77623C</td>\n",
       "      <td>GAUGE PRESSURE, 04 ORB MD-5000 PSI</td>\n",
       "      <td>MEX</td>\n",
       "      <td>25.00</td>\n",
       "      <td>745.00</td>\n",
       "      <td>18625.00</td>\n",
       "      <td>9941973386</td>\n",
       "      <td>2024-12-27</td>\n",
       "      <td>JOY GLOBAL CANADA</td>\n",
       "    </tr>\n",
       "    <tr>\n",
       "      <th>14</th>\n",
       "      <td>P22912K</td>\n",
       "      <td>THERMOCOUPLE TYPE-K 1000°C</td>\n",
       "      <td>GER</td>\n",
       "      <td>14.00</td>\n",
       "      <td>235.00</td>\n",
       "      <td>3290.00</td>\n",
       "      <td>9370039816</td>\n",
       "      <td>2024-12-23</td>\n",
       "      <td>JOY GLOBAL CANADA</td>\n",
       "    </tr>\n",
       "    <tr>\n",
       "      <th>15</th>\n",
       "      <td>P85396X</td>\n",
       "      <td>VALVE ASSEMBLY, RELIEF 3000 PSI</td>\n",
       "      <td>GER</td>\n",
       "      <td>22.00</td>\n",
       "      <td>815.00</td>\n",
       "      <td>17930.00</td>\n",
       "      <td>9370039816</td>\n",
       "      <td>2024-12-23</td>\n",
       "      <td>JOY GLOBAL CANADA</td>\n",
       "    </tr>\n",
       "    <tr>\n",
       "      <th>16</th>\n",
       "      <td>P64031F</td>\n",
       "      <td>MOTOR, ELECTRIC 230V 5HP</td>\n",
       "      <td>CHN</td>\n",
       "      <td>9.00</td>\n",
       "      <td>705.00</td>\n",
       "      <td>6345.00</td>\n",
       "      <td>9362939534</td>\n",
       "      <td>2024-12-15</td>\n",
       "      <td>JOY GLOBAL CANADA</td>\n",
       "    </tr>\n",
       "    <tr>\n",
       "      <th>17</th>\n",
       "      <td>P29161I</td>\n",
       "      <td>SOLENOID VALVE, 24VDC</td>\n",
       "      <td>USA</td>\n",
       "      <td>7.00</td>\n",
       "      <td>190.00</td>\n",
       "      <td>1330.00</td>\n",
       "      <td>9362939534</td>\n",
       "      <td>2024-12-15</td>\n",
       "      <td>JOY GLOBAL CANADA</td>\n",
       "    </tr>\n",
       "  </tbody>\n",
       "</table>\n",
       "</div>"
      ],
      "text/plain": [
       "   part_number                         description country_of_origin quantity  \\\n",
       "0      P64028C            MOTOR, ELECTRIC 230V 5HP               CHN     4.00   \n",
       "1      P20218Z            MOTOR, ELECTRIC 230V 5HP               CAN    11.00   \n",
       "2      P29158F               SOLENOID VALVE, 24VDC               CHN     8.00   \n",
       "3      P77621A  GAUGE PRESSURE, 04 ORB MD-5000 PSI               MEX    20.00   \n",
       "4      P22910I          THERMOCOUPLE TYPE-K 1000°C               GER     2.00   \n",
       "5      P85394V     VALVE ASSEMBLY, RELIEF 3000 PSI               GER    18.00   \n",
       "6      P64029D            MOTOR, ELECTRIC 230V 5HP               CHN     6.00   \n",
       "7      P29159G               SOLENOID VALVE, 24VDC               USA    12.00   \n",
       "8      P77622B  GAUGE PRESSURE, 04 ORB MD-5000 PSI               MEX    15.00   \n",
       "9      P22911J          THERMOCOUPLE TYPE-K 1000°C               GER     8.00   \n",
       "10     P85395W     VALVE ASSEMBLY, RELIEF 3000 PSI               GER    10.00   \n",
       "11     P64030E            MOTOR, ELECTRIC 230V 5HP               CHN     3.00   \n",
       "12     P29160H               SOLENOID VALVE, 24VDC               USA    16.00   \n",
       "13     P77623C  GAUGE PRESSURE, 04 ORB MD-5000 PSI               MEX    25.00   \n",
       "14     P22912K          THERMOCOUPLE TYPE-K 1000°C               GER    14.00   \n",
       "15     P85396X     VALVE ASSEMBLY, RELIEF 3000 PSI               GER    22.00   \n",
       "16     P64031F            MOTOR, ELECTRIC 230V 5HP               CHN     9.00   \n",
       "17     P29161I               SOLENOID VALVE, 24VDC               USA     7.00   \n",
       "\n",
       "   unit_price extended_price invoice_number invoice_date              buyer  \n",
       "0      697.65        2790.60     9941973384   2024-12-25  JOY GLOBAL CANADA  \n",
       "1      421.45        4635.95     9941973384   2024-12-25  JOY GLOBAL CANADA  \n",
       "2      182.50        1460.00     9370039814   2024-12-21  JOY GLOBAL CANADA  \n",
       "3      740.87       14817.40     9370039814   2024-12-21  JOY GLOBAL CANADA  \n",
       "4      225.48         450.96     9362939532   2024-12-13  JOY GLOBAL CANADA  \n",
       "5      807.66       14537.88     9362939532   2024-12-13  JOY GLOBAL CANADA  \n",
       "6      720.00        4320.00     9941973385   2024-12-26  JOY GLOBAL CANADA  \n",
       "7      195.00        2340.00     9941973385   2024-12-26  JOY GLOBAL CANADA  \n",
       "8      750.00       11250.00     9370039815   2024-12-22  JOY GLOBAL CANADA  \n",
       "9      230.00        1840.00     9370039815   2024-12-22  JOY GLOBAL CANADA  \n",
       "10     820.00        8200.00     9362939533   2024-12-14  JOY GLOBAL CANADA  \n",
       "11     710.00        2130.00     9362939533   2024-12-14  JOY GLOBAL CANADA  \n",
       "12     185.00        2960.00     9941973386   2024-12-27  JOY GLOBAL CANADA  \n",
       "13     745.00       18625.00     9941973386   2024-12-27  JOY GLOBAL CANADA  \n",
       "14     235.00        3290.00     9370039816   2024-12-23  JOY GLOBAL CANADA  \n",
       "15     815.00       17930.00     9370039816   2024-12-23  JOY GLOBAL CANADA  \n",
       "16     705.00        6345.00     9362939534   2024-12-15  JOY GLOBAL CANADA  \n",
       "17     190.00        1330.00     9362939534   2024-12-15  JOY GLOBAL CANADA  "
      ]
     },
     "execution_count": 11,
     "metadata": {},
     "output_type": "execute_result"
    }
   ],
   "source": [
    "flatten_json_items(\"/home/ajacob/mlprojects/ocr/ocr_developer_kit/ocr_developer_kit/invoice_data_extended.json\", rows=18)"
   ]
  },
  {
   "cell_type": "code",
   "execution_count": null,
   "metadata": {},
   "outputs": [],
   "source": []
  },
  {
   "cell_type": "code",
   "execution_count": null,
   "metadata": {},
   "outputs": [],
   "source": []
  },
  {
   "cell_type": "code",
   "execution_count": null,
   "metadata": {},
   "outputs": [],
   "source": []
  },
  {
   "cell_type": "code",
   "execution_count": null,
   "metadata": {},
   "outputs": [],
   "source": []
  },
  {
   "cell_type": "code",
   "execution_count": null,
   "metadata": {},
   "outputs": [],
   "source": []
  }
 ],
 "metadata": {
  "kernelspec": {
   "display_name": "Python 3 (ipykernel)",
   "language": "python",
   "name": "python3"
  },
  "language_info": {
   "codemirror_mode": {
    "name": "ipython",
    "version": 3
   },
   "file_extension": ".py",
   "mimetype": "text/x-python",
   "name": "python",
   "nbconvert_exporter": "python",
   "pygments_lexer": "ipython3",
   "version": "3.9.23"
  }
 },
 "nbformat": 4,
 "nbformat_minor": 4
}
