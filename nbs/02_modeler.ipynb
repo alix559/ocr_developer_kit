{
 "cells": [
  {
   "cell_type": "code",
   "execution_count": null,
   "id": "25efe24b-881e-4f85-83f1-5d0897baa3eb",
   "metadata": {},
   "outputs": [],
   "source": [
    "#| default_exp modeler"
   ]
  },
  {
   "cell_type": "markdown",
   "id": "9e04acb5-fb39-4da0-ae22-636b6d80f0ea",
   "metadata": {},
   "source": [
    "# Modeler\n",
    "> methods to generate synthetic data sets to fit patterns seen in invoice texts "
   ]
  },
  {
   "cell_type": "markdown",
   "id": "0e055ece-5f6f-402f-aed9-90caf39c22c2",
   "metadata": {},
   "source": [
    "We will be using an AI tool to generate json required to render invoice images that will be fed into the training pipeline. There are multiple helper methods you can use for this :"
   ]
  },
  {
   "cell_type": "markdown",
   "id": "cc0bb76d-b90c-43a4-b65c-16334e7f2094",
   "metadata": {},
   "source": [
    "## Inspectors\n",
    " We will be using the AI tool to impart different patterns i.e repeating line descriptions, multiple country of origins, same part numbers for different line descriptions . This is going to be an iterative process. The following are the methods that can be used to examine the json data we generate this way to feed into the model along with the invoice images for the training."
   ]
  },
  {
   "cell_type": "code",
   "execution_count": null,
   "id": "831775dd-9caa-469e-bb68-3c9dbc68147c",
   "metadata": {},
   "outputs": [],
   "source": [
    "#| export\n",
    "\n",
    "import json\n",
    "import pandas as pd\n",
    "from IPython.display import display\n",
    "\n",
    "def flatten_json_items(path, rows=50):\n",
    "    \"\"\"\n",
    "    Load JSON and concatenate all 'items' lists into one DataFrame.\n",
    "    \"\"\"\n",
    "    with open(path, \"r\", encoding=\"utf-8\") as f:\n",
    "        data = json.load(f)\n",
    "\n",
    "    if isinstance(data, dict):\n",
    "        data = [data]\n",
    "\n",
    "    df = pd.json_normalize(data)\n",
    "\n",
    "    # Collect all expanded items\n",
    "    all_items = []\n",
    "    for idx, row in df.iterrows():\n",
    "        if isinstance(row.get(\"items\"), list):\n",
    "            for it in row[\"items\"]:\n",
    "                # attach invoice-level metadata for context\n",
    "                record = it.copy()\n",
    "                record[\"invoice_number\"] = row.get(\"invoice_number\")\n",
    "                record[\"invoice_date\"] = row.get(\"invoice_date\")\n",
    "                record[\"buyer\"] = row.get(\"buyer\")\n",
    "                all_items.append(record)\n",
    "\n",
    "    items_df = pd.DataFrame(all_items)\n",
    "\n",
    "    # Return only — Jupyter will display nicely once\n",
    "    return items_df.head(rows)\n"
   ]
  },
  {
   "cell_type": "code",
   "execution_count": null,
   "id": "63775134-acdc-464f-91d1-dec0614670ac",
   "metadata": {},
   "outputs": [],
   "source": []
  }
 ],
 "metadata": {
  "kernelspec": {
   "display_name": "pixi-ocr-dev",
   "language": "python",
   "name": "pixi-ocr-dev"
  }
 },
 "nbformat": 4,
 "nbformat_minor": 5
}
